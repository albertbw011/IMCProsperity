{
 "cells": [
  {
   "cell_type": "code",
   "execution_count": null,
   "metadata": {},
   "outputs": [],
   "source": [
    "# If we are short selling, we aim to sell high and then buy back at a lower price. The profit comes from the difference minus fees.\n",
    "# We will now redefine the function to calculate the expected profit from a short sale.\n",
    "\n",
    "def calculate_short_selling_profit(percentage_of_budget, budget, original_unit_price, drop):\n",
    "    # Calculate the selling price before the 30% drop (assuming we are selling at the original price)\n",
    "    selling_unit_price = original_unit_price\n",
    "    # Calculate the buying back price after a 30% drop\n",
    "    buying_back_unit_price = original_unit_price * (1-drop)\n",
    "    # Calculate the cost and fee based on the percentage of the budget used\n",
    "    cost = budget * (percentage_of_budget / 100)\n",
    "    fee = percentage_of_budget**2 * 90  # Using a fee rate of 0.24 for percentages not in fee_structure\n",
    "    #print(fee)\n",
    "    # Calculate the number of units sold and bought back\n",
    "    units_sold = cost / selling_unit_price\n",
    "    cost_to_buy_back = units_sold * buying_back_unit_price\n",
    "    # Calculate profit: revenue from selling - cost to buy back - fees\n",
    "    profit = (units_sold * selling_unit_price) - cost_to_buy_back - fee\n",
    "    return profit\n",
    "\n",
    "# We'll now calculate the expected profit for a range of percentages from 1% to 100%.\n",
    "# Since short selling benefits from the price drop, the larger the percentage of the budget used, the greater the potential profit (before fees).\n",
    "# We assume the same fee structure as in the previous calculation.\n",
    "\n",
    "# Calculate the profit for short selling electric blankets at each percentage of the budget\n",
    "short_selling_profits = {percentage: calculate_short_selling_profit(percentage, 750000, 50, 0.5)\n",
    "                         for percentage in range(1, 101)}\n",
    "\n",
    "# Find the percentage that gives the maximum profit\n",
    "optimal_short_selling_percentage = max(short_selling_profits, key=short_selling_profits.get)\n",
    "optimal_short_selling_profit = short_selling_profits[optimal_short_selling_percentage]\n",
    "\n",
    "print(optimal_short_selling_percentage)\n",
    "print(optimal_short_selling_profit)\n",
    "\n",
    "(optimal_short_selling_percentage, optimal_short_selling_profit)"
   ]
  }
 ],
 "metadata": {
  "kernelspec": {
   "display_name": "base",
   "language": "python",
   "name": "python3"
  },
  "language_info": {
   "name": "python",
   "version": "3.9.13"
  }
 },
 "nbformat": 4,
 "nbformat_minor": 2
}
